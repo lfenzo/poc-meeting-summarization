{
 "cells": [
  {
   "cell_type": "code",
   "execution_count": 1,
   "id": "236aa44e-630e-44db-8d96-3624456b793a",
   "metadata": {
    "execution": {
     "iopub.execute_input": "2024-07-17T14:45:36.215237Z",
     "iopub.status.busy": "2024-07-17T14:45:36.215068Z",
     "iopub.status.idle": "2024-07-17T14:45:36.228040Z",
     "shell.execute_reply": "2024-07-17T14:45:36.227844Z",
     "shell.execute_reply.started": "2024-07-17T14:45:36.215222Z"
    }
   },
   "outputs": [],
   "source": [
    "import os\n",
    "\n",
    "from pytubefix import YouTube\n",
    "from pydub import AudioSegment"
   ]
  },
  {
   "cell_type": "code",
   "execution_count": 2,
   "id": "a2822b06-4678-4e1d-a9fb-c8bae6000dd2",
   "metadata": {
    "execution": {
     "iopub.execute_input": "2024-07-17T14:45:36.228379Z",
     "iopub.status.busy": "2024-07-17T14:45:36.228310Z",
     "iopub.status.idle": "2024-07-17T14:45:36.236900Z",
     "shell.execute_reply": "2024-07-17T14:45:36.236707Z",
     "shell.execute_reply.started": "2024-07-17T14:45:36.228373Z"
    }
   },
   "outputs": [],
   "source": [
    "def download_and_extract_audio(youtube_url: str, output_filename: str, fmt: str = 'mp3') -> None:\n",
    "    # Download the YouTube video\n",
    "    yt = YouTube(youtube_url)\n",
    "    video = yt.streams.filter(only_audio=True).first()\n",
    "    downloaded_file = video.download()\n",
    "    print(f\"Downloaded from {url=}\")\n",
    "\n",
    "    # Extract audio from the downloaded video\n",
    "    audio = AudioSegment.from_file(downloaded_file)\n",
    "    audio.export(f\"{output_filename}.{fmt}\", format=fmt)\n",
    "    print(f\"Audio extracted and saved as {output_filename=}\")\n",
    "\n",
    "    # Removing temporaty video file\n",
    "    os.remove(downloaded_file)"
   ]
  },
  {
   "cell_type": "code",
   "execution_count": 3,
   "id": "2e7ffe39-8d75-4ba2-92d5-779ce8fb02b0",
   "metadata": {
    "execution": {
     "iopub.execute_input": "2024-07-17T14:45:36.237254Z",
     "iopub.status.busy": "2024-07-17T14:45:36.237164Z",
     "iopub.status.idle": "2024-07-17T14:46:59.388911Z",
     "shell.execute_reply": "2024-07-17T14:46:59.388590Z",
     "shell.execute_reply.started": "2024-07-17T14:45:36.237247Z"
    }
   },
   "outputs": [
    {
     "name": "stdout",
     "output_type": "stream",
     "text": [
      "Downloaded from url='https://youtu.be/m4RgzZ7M7Cg?feature=shared'\n",
      "Audio extracted and saved as output_filename='audios/video1'\n",
      "Downloaded from url='https://youtu.be/2rPVOWEA4hQ?feature=shared'\n",
      "Audio extracted and saved as output_filename='audios/video2'\n",
      "Downloaded from url='https://www.youtube.com/watch?v=4ostqJD3Psc'\n",
      "Audio extracted and saved as output_filename='audios/video3'\n",
      "Downloaded from url='https://www.youtube.com/watch?v=LF3MAdbUsjc'\n",
      "Audio extracted and saved as output_filename='audios/video4'\n",
      "Downloaded from url='https://www.youtube.com/watch?v=lBVtvOpU80Q'\n",
      "Audio extracted and saved as output_filename='audios/video5'\n"
     ]
    }
   ],
   "source": [
    "target_dir = \"audios\"\n",
    "videos = {\n",
    "    'video1': 'https://youtu.be/m4RgzZ7M7Cg?feature=shared',\n",
    "    'video2': 'https://youtu.be/2rPVOWEA4hQ?feature=shared',\n",
    "    'video3': 'https://www.youtube.com/watch?v=4ostqJD3Psc',\n",
    "    'video4': 'https://www.youtube.com/watch?v=LF3MAdbUsjc',\n",
    "    'video5': 'https://www.youtube.com/watch?v=lBVtvOpU80Q'\n",
    "    \n",
    "}\n",
    "\n",
    "if not os.path.exists(target_dir):\n",
    "    os.mkdir(target_dir)\n",
    "\n",
    "for video, url in videos.items():\n",
    "    download_and_extract_audio(\n",
    "        youtube_url=url,\n",
    "        output_filename=os.path.join(target_dir, video),\n",
    "        fmt=\"mp3\"\n",
    "    )"
   ]
  }
 ],
 "metadata": {
  "kernelspec": {
   "display_name": "Python 3 (ipykernel)",
   "language": "python",
   "name": "python3"
  },
  "language_info": {
   "codemirror_mode": {
    "name": "ipython",
    "version": 3
   },
   "file_extension": ".py",
   "mimetype": "text/x-python",
   "name": "python",
   "nbconvert_exporter": "python",
   "pygments_lexer": "ipython3",
   "version": "3.10.14"
  }
 },
 "nbformat": 4,
 "nbformat_minor": 5
}
