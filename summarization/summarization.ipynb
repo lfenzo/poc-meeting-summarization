{
 "cells": [
  {
   "cell_type": "code",
   "execution_count": null,
   "id": "19f7ea65-f7db-4908-8174-1071851c860f",
   "metadata": {
    "scrolled": true
   },
   "outputs": [],
   "source": [
    "import os\n",
    "from llama_cpp import Llama\n",
    "\n",
    "model_path = 'models/gemma-2-27b-it-Q5_K_L.gguf'\n",
    "\n",
    "llm = Llama(\n",
    "    model_path=model_path,\n",
    "    n_gpu_layers=29,\n",
    "    n_ctx=10000,\n",
    "    verbose=True,\n",
    ")"
   ]
  },
  {
   "cell_type": "code",
   "execution_count": null,
   "id": "32025918-2a67-47a9-9d6f-8f2a9c5f0cf1",
   "metadata": {},
   "outputs": [],
   "source": [
    "from IPython.display import display, clear_output\n",
    "\n",
    "def load_transcription_file(path: os.PathLike) -> str:\n",
    "    with open(path, 'r') as file:\n",
    "        return file.read()\n",
    "\n",
    "def summarize_text(text: str) -> str:\n",
    "    output = ''\n",
    "    response_generator = llm.create_chat_completion(\n",
    "        messages = [\n",
    "            {\n",
    "                \"role\": \"user\",\n",
    "                \"content\": f\"\"\"\n",
    "                    Please, summarize the following text using bullet points: {text}\n",
    "                    The produced text must be in the same language as the original!\n",
    "                    You may add details and complement some information when appropriate.\n",
    "                    \"\"\"\n",
    "            }\n",
    "        ],\n",
    "        stream=True,\n",
    "    )\n",
    "    \n",
    "    for r in response_generator:\n",
    "        clear_output(wait=True)\n",
    "        if 'content' in r['choices'][0]['delta']:\n",
    "            output += r['choices'][0]['delta']['content']\n",
    "        print(output)\n",
    "    return output"
   ]
  },
  {
   "cell_type": "code",
   "execution_count": null,
   "id": "79be6718-e52f-425e-9d75-562d9c166eb3",
   "metadata": {},
   "outputs": [],
   "source": [
    "files_to_summarize = ['large_video1.txt', 'large_video3.txt']\n",
    "summaries = {file: '' for file in files_to_summarize}\n",
    "\n",
    "for file in files_to_summarize:\n",
    "    transcription_file = os.path.join('..', 'transcription', 'transcriptions', file)\n",
    "    text = load_transcription_file(path=transcription_file)\n",
    "    summaries[file] = summarize_text(text)"
   ]
  },
  {
   "cell_type": "code",
   "execution_count": null,
   "id": "d4d85af2-4e6f-4df1-8293-289b41ff9a17",
   "metadata": {},
   "outputs": [],
   "source": [
    "for file in files_to_summarize:\n",
    "    print(summaries[file])\n",
    "    print(\"-\" * 100)"
   ]
  }
 ],
 "metadata": {
  "kernelspec": {
   "display_name": "Python 3 (ipykernel)",
   "language": "python",
   "name": "python3"
  },
  "language_info": {
   "codemirror_mode": {
    "name": "ipython",
    "version": 3
   },
   "file_extension": ".py",
   "mimetype": "text/x-python",
   "name": "python",
   "nbconvert_exporter": "python",
   "pygments_lexer": "ipython3",
   "version": "3.10.12"
  }
 },
 "nbformat": 4,
 "nbformat_minor": 5
}
