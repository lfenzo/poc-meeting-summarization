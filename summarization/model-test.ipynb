{
 "cells": [
  {
   "cell_type": "code",
   "execution_count": null,
   "id": "19f7ea65-f7db-4908-8174-1071851c860f",
   "metadata": {},
   "outputs": [],
   "source": [
    "import os\n",
    "from llama_cpp import Llama\n",
    "\n",
    "model_path = 'models/gemma-2-27b-it-Q5_K_L.gguf'\n",
    "\n",
    "llm = Llama(\n",
    "    #repo_id=\"bartowski/gemma-2-27b-it-GGUF\",\n",
    "    #filename=\"gemma-2-27b-it-Q5_K_L.gguf\",\n",
    "    verbose=True,\n",
    "    n_gpu_layers=28,\n",
    "    model_path=model_path,\n",
    "    #n_ctx=2048,\n",
    ")\n"
   ]
  },
  {
   "cell_type": "code",
   "execution_count": null,
   "id": "9e289976-4e0e-45f6-9b8f-b7542aa35062",
   "metadata": {},
   "outputs": [],
   "source": [
    "# Generate text\n",
    "response = llm(\n",
    "    \"Can you swear?\",\n",
    "    max_tokens=2048, \n",
    ")\n",
    "\n",
    "print(response['choices'][0]['text'])"
   ]
  },
  {
   "cell_type": "code",
   "execution_count": null,
   "id": "1755f8a4-1639-4c39-969b-fff22e9e5a41",
   "metadata": {},
   "outputs": [],
   "source": [
    "response.keys()"
   ]
  },
  {
   "cell_type": "code",
   "execution_count": null,
   "id": "2d054394-7782-4d92-86ee-67f0d112a319",
   "metadata": {},
   "outputs": [],
   "source": [
    "response['usage']"
   ]
  },
  {
   "cell_type": "code",
   "execution_count": null,
   "id": "7f5d93ce-3515-41a7-9c7f-379f808fdae0",
   "metadata": {},
   "outputs": [],
   "source": [
    "response['object']"
   ]
  },
  {
   "cell_type": "code",
   "execution_count": null,
   "id": "dda88deb-4fa8-4026-b333-aa7928153156",
   "metadata": {},
   "outputs": [],
   "source": [
    "response['model']"
   ]
  }
 ],
 "metadata": {
  "kernelspec": {
   "display_name": "Python 3 (ipykernel)",
   "language": "python",
   "name": "python3"
  },
  "language_info": {
   "codemirror_mode": {
    "name": "ipython",
    "version": 3
   },
   "file_extension": ".py",
   "mimetype": "text/x-python",
   "name": "python",
   "nbconvert_exporter": "python",
   "pygments_lexer": "ipython3",
   "version": "3.10.12"
  }
 },
 "nbformat": 4,
 "nbformat_minor": 5
}
